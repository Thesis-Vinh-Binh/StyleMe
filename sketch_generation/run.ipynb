{
 "cells": [
  {
   "cell_type": "code",
   "execution_count": null,
   "id": "38222b63",
   "metadata": {
    "vscode": {
     "languageId": "plaintext"
    }
   },
   "outputs": [],
   "source": [
    "%cd /media02/ltnghia07/StyleMe/sketch_generation\n"
   ]
  }
 ],
 "metadata": {
  "language_info": {
   "name": "python"
  }
 },
 "nbformat": 4,
 "nbformat_minor": 5
}
